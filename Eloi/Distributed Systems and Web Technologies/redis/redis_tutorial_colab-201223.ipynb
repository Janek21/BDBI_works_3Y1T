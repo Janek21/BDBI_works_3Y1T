{
  "nbformat": 4,
  "nbformat_minor": 0,
  "metadata": {
    "colab": {
      "provenance": []
    },
    "kernelspec": {
      "name": "python3",
      "display_name": "Python 3"
    },
    "language_info": {
      "name": "python"
    }
  },
  "cells": [
    {
      "cell_type": "code",
      "execution_count": 9,
      "metadata": {
        "colab": {
          "base_uri": "https://localhost:8080/"
        },
        "id": "sbeIU0wnJgN6",
        "outputId": "218c5818-3774-484f-b4d2-0e2c36c7e36a"
      },
      "outputs": [
        {
          "output_type": "stream",
          "name": "stdout",
          "text": [
            "Reading package lists... Done\n",
            "Building dependency tree... Done\n",
            "Reading state information... Done\n",
            "redis is already the newest version (5:6.0.16-1ubuntu1).\n",
            "0 upgraded, 0 newly installed, 0 to remove and 24 not upgraded.\n",
            "Requirement already satisfied: redis in /usr/local/lib/python3.10/dist-packages (5.0.1)\n",
            "Requirement already satisfied: async-timeout>=4.0.2 in /usr/local/lib/python3.10/dist-packages (from redis) (4.0.3)\n"
          ]
        }
      ],
      "source": [
        "!apt install -y redis\n",
        "!pip install redis\n",
        "!redis-server --daemonize yes"
      ]
    },
    {
      "cell_type": "code",
      "source": [
        "import redis\n",
        "client=redis.Redis(host='localhost', port=6379)\n",
        "\n",
        "client.ping()"
      ],
      "metadata": {
        "colab": {
          "base_uri": "https://localhost:8080/"
        },
        "id": "9hmLJqeOK7QV",
        "outputId": "cf2a3861-a1f8-45dd-f0be-c0b20abea450"
      },
      "execution_count": 10,
      "outputs": [
        {
          "output_type": "execute_result",
          "data": {
            "text/plain": [
              "True"
            ]
          },
          "metadata": {},
          "execution_count": 10
        }
      ]
    },
    {
      "cell_type": "code",
      "source": [
        "client.set('UAB', 'http://www.uab.cat/enginyeria')\n",
        "url= client.get('UAB')\n",
        "print(url.decode())"
      ],
      "metadata": {
        "colab": {
          "base_uri": "https://localhost:8080/"
        },
        "id": "ZWTJpkOZN8PN",
        "outputId": "cd57841e-727a-4fa7-f08e-0268b8c8b8ff"
      },
      "execution_count": 13,
      "outputs": [
        {
          "output_type": "stream",
          "name": "stdout",
          "text": [
            "http://www.uab.cat/enginyeria\n"
          ]
        }
      ]
    },
    {
      "cell_type": "markdown",
      "source": [
        "STRINGS"
      ],
      "metadata": {
        "id": "Sm_pN6UQQilg"
      }
    },
    {
      "cell_type": "code",
      "source": [
        "client.set(\"name\",\"john\")\n",
        "client.set(\"age\",\"15\")\n",
        "\n",
        "name=client.get(\"name\")\n",
        "print(name.decode())\n",
        "\n",
        "age=client.get(\"age\")\n",
        "print(age.decode())"
      ],
      "metadata": {
        "colab": {
          "base_uri": "https://localhost:8080/"
        },
        "id": "Gu4JWw2QOt4O",
        "outputId": "0512d477-b098-41ca-ca1c-e24f2446d383"
      },
      "execution_count": 15,
      "outputs": [
        {
          "output_type": "stream",
          "name": "stdout",
          "text": [
            "john\n",
            "15\n"
          ]
        }
      ]
    },
    {
      "cell_type": "markdown",
      "source": [
        "HASHES"
      ],
      "metadata": {
        "id": "cH7VCXqxQhFZ"
      }
    },
    {
      "cell_type": "code",
      "source": [
        "client.hset(\"user:1\", \"name\", \"Alice\")\n",
        "client.hset(\"user:1\", \"age\", 30)\n",
        "\n",
        "user_data = client.hgetall(\"user:1\")\n",
        "print(user_data)"
      ],
      "metadata": {
        "colab": {
          "base_uri": "https://localhost:8080/"
        },
        "id": "kEjVrCpyRBhg",
        "outputId": "6dfbbe82-a65f-429f-f7df-9eaac15a24bf"
      },
      "execution_count": 20,
      "outputs": [
        {
          "output_type": "stream",
          "name": "stdout",
          "text": [
            "{b'name': b'Alice', b'age': b'30'}\n"
          ]
        }
      ]
    },
    {
      "cell_type": "markdown",
      "source": [
        "SETS"
      ],
      "metadata": {
        "id": "7a9BkuMyRh1S"
      }
    },
    {
      "cell_type": "code",
      "source": [
        "client.sadd(\"fruits\", \"apple\")\n",
        "client.sadd(\"fruits\", \"banana\")\n",
        "client.sadd(\"fruits\", \"orange\")\n",
        "\n",
        "fruits = client.smembers(\"fruits\")\n",
        "print(fruits)"
      ],
      "metadata": {
        "colab": {
          "base_uri": "https://localhost:8080/"
        },
        "id": "YlGREeLaRizj",
        "outputId": "ffe96b76-2580-43a6-8981-70ab48d5d862"
      },
      "execution_count": 94,
      "outputs": [
        {
          "output_type": "stream",
          "name": "stdout",
          "text": [
            "{b'banana', b'apple', b'orange', b'lettuce'}\n"
          ]
        }
      ]
    },
    {
      "cell_type": "code",
      "source": [
        "client.sadd(\"greens\",\"banana\")\n",
        "client.sadd(\"greens\",\"pea\")\n",
        "\n",
        "greens=client.smembers(\"greens\")\n",
        "print(greens)"
      ],
      "metadata": {
        "colab": {
          "base_uri": "https://localhost:8080/"
        },
        "id": "1XsCPhXFiwPM",
        "outputId": "2817db58-4bb4-431f-baaa-10e6f043e9bc"
      },
      "execution_count": 105,
      "outputs": [
        {
          "output_type": "stream",
          "name": "stdout",
          "text": [
            "{b'banana', b'lettuce', b'pea'}\n"
          ]
        }
      ]
    },
    {
      "cell_type": "code",
      "source": [
        "client.sunionstore(\"fruits-union\",\"greens\",\"fruits\")\n",
        "fr_union=client.smembers(\"fruits-union\")\n",
        "print(fr_union)"
      ],
      "metadata": {
        "colab": {
          "base_uri": "https://localhost:8080/"
        },
        "id": "McrddxD8ietk",
        "outputId": "366dfb86-ee5e-4d94-d346-87d418e579b8"
      },
      "execution_count": 106,
      "outputs": [
        {
          "output_type": "stream",
          "name": "stdout",
          "text": [
            "{b'banana', b'lettuce', b'pea'}\n"
          ]
        }
      ]
    },
    {
      "cell_type": "code",
      "source": [
        "client.sinterstore(\"fruits-intersection\",\"fruits\",\"greens\")\n",
        "fr_intersection=client.smembers(\"fruits-intersection\")\n",
        "print(fr_intersection)"
      ],
      "metadata": {
        "colab": {
          "base_uri": "https://localhost:8080/"
        },
        "id": "hCHMV8WFk-iG",
        "outputId": "6208b442-0324-4656-e076-8ee245a3be90"
      },
      "execution_count": 107,
      "outputs": [
        {
          "output_type": "stream",
          "name": "stdout",
          "text": [
            "{b'banana', b'lettuce'}\n"
          ]
        }
      ]
    },
    {
      "cell_type": "markdown",
      "source": [
        "ZSETS"
      ],
      "metadata": {
        "id": "A_LcJ36hlhaJ"
      }
    },
    {
      "cell_type": "code",
      "source": [
        "myarticle=\"article:3\"\n",
        "votes=55\n",
        "score_list=\"score:\"\n",
        "client.zadd(score_list, {myarticle : votes})\n",
        "client.zadd(score_list, {'article:1': 1})\n",
        "client.zadd(score_list, {'article:2': 10})"
      ],
      "metadata": {
        "colab": {
          "base_uri": "https://localhost:8080/"
        },
        "id": "X67yhh1UbhsY",
        "outputId": "266a55aa-6ebf-43a7-dc62-e31fbe9cccc5"
      },
      "execution_count": 73,
      "outputs": [
        {
          "output_type": "execute_result",
          "data": {
            "text/plain": [
              "1"
            ]
          },
          "metadata": {},
          "execution_count": 73
        }
      ]
    },
    {
      "cell_type": "code",
      "source": [
        "client.zscore(score_list,'article:3')"
      ],
      "metadata": {
        "colab": {
          "base_uri": "https://localhost:8080/"
        },
        "id": "i4i7Y1tYeSj6",
        "outputId": "b68a439c-1799-4dd5-f505-7eb577282337"
      },
      "execution_count": 64,
      "outputs": [
        {
          "output_type": "execute_result",
          "data": {
            "text/plain": [
              "55.0"
            ]
          },
          "metadata": {},
          "execution_count": 64
        }
      ]
    },
    {
      "cell_type": "code",
      "source": [
        "client.zrange(score_list,0,9, withscores=True)"
      ],
      "metadata": {
        "colab": {
          "base_uri": "https://localhost:8080/"
        },
        "id": "FnL8quQfeevj",
        "outputId": "1512124f-a117-4a71-caea-b619c77313c1"
      },
      "execution_count": 78,
      "outputs": [
        {
          "output_type": "execute_result",
          "data": {
            "text/plain": [
              "[(b'article:1', 1.0), (b'article:2', 10.0), (b'article:3', 55.0)]"
            ]
          },
          "metadata": {},
          "execution_count": 78
        }
      ]
    },
    {
      "cell_type": "code",
      "source": [
        "client.zcard(score_list)"
      ],
      "metadata": {
        "colab": {
          "base_uri": "https://localhost:8080/"
        },
        "id": "ZTV_4iSzfRY8",
        "outputId": "cb9eae7b-c637-4cbc-e4b3-30c01b3292c3"
      },
      "execution_count": 67,
      "outputs": [
        {
          "output_type": "execute_result",
          "data": {
            "text/plain": [
              "3"
            ]
          },
          "metadata": {},
          "execution_count": 67
        }
      ]
    },
    {
      "cell_type": "code",
      "source": [
        "client.zrangebyscore(score_list, min=0, max=100, withscores = True)"
      ],
      "metadata": {
        "colab": {
          "base_uri": "https://localhost:8080/"
        },
        "id": "bdSk5fOOfeij",
        "outputId": "e9670609-7604-49e9-edc1-1e9c1fab3464"
      },
      "execution_count": 77,
      "outputs": [
        {
          "output_type": "execute_result",
          "data": {
            "text/plain": [
              "[(b'article:1', 1.0), (b'article:2', 10.0), (b'article:3', 55.0)]"
            ]
          },
          "metadata": {},
          "execution_count": 77
        }
      ]
    },
    {
      "cell_type": "code",
      "source": [
        "client.zrevrangebyscore(score_list, min=0, max=100, withscores = True)"
      ],
      "metadata": {
        "colab": {
          "base_uri": "https://localhost:8080/"
        },
        "id": "U_pAN_uXgm3T",
        "outputId": "af717458-5266-4841-f536-1142c969c3b3"
      },
      "execution_count": 79,
      "outputs": [
        {
          "output_type": "execute_result",
          "data": {
            "text/plain": [
              "[(b'article:3', 55.0), (b'article:2', 10.0), (b'article:1', 1.0)]"
            ]
          },
          "metadata": {},
          "execution_count": 79
        }
      ]
    },
    {
      "cell_type": "markdown",
      "source": [
        "HASHES"
      ],
      "metadata": {
        "id": "UY6rVl7MR_rF"
      }
    },
    {
      "cell_type": "code",
      "source": [
        "now=1234\n",
        "article='article:'+\"1\"\n",
        "client.hset(article,'title:','genomic analyis')\n",
        "client.hset(article,'votes:',1)\n",
        "client.hset(article,'time:',now)"
      ],
      "metadata": {
        "id": "xNFv7HgeSFeh"
      },
      "execution_count": null,
      "outputs": []
    },
    {
      "cell_type": "code",
      "source": [
        "client.hget(article,'title:')\n"
      ],
      "metadata": {
        "colab": {
          "base_uri": "https://localhost:8080/"
        },
        "id": "lGHx7IiHaHeC",
        "outputId": "2f2c05c9-fa05-4360-fb49-100731d09b1a"
      },
      "execution_count": 44,
      "outputs": [
        {
          "output_type": "execute_result",
          "data": {
            "text/plain": [
              "b'genomic analyis'"
            ]
          },
          "metadata": {},
          "execution_count": 44
        }
      ]
    },
    {
      "cell_type": "code",
      "source": [
        "client.hgetall(article)"
      ],
      "metadata": {
        "colab": {
          "base_uri": "https://localhost:8080/"
        },
        "id": "j2nIGO2PZe9u",
        "outputId": "0156213b-f8ed-4bb4-ca74-43fc621734b1"
      },
      "execution_count": 43,
      "outputs": [
        {
          "output_type": "execute_result",
          "data": {
            "text/plain": [
              "{b'title': b'genomic analyis',\n",
              " b'votes': b'1',\n",
              " b'title:': b'genomic analyis',\n",
              " b'votes:': b'1',\n",
              " b'time:': b'1234'}"
            ]
          },
          "metadata": {},
          "execution_count": 43
        }
      ]
    },
    {
      "cell_type": "code",
      "source": [
        "article2='article:2'\n",
        "client.hmset(article2,{\n",
        "    'title:':\"new title 2\",\n",
        "    'votes:':1})\n",
        "client.hgetall(\"article:2\")"
      ],
      "metadata": {
        "colab": {
          "base_uri": "https://localhost:8080/"
        },
        "id": "oSfZR1YaaF85",
        "outputId": "d4222192-6bdb-403a-aad1-d44b60c7abd6"
      },
      "execution_count": 52,
      "outputs": [
        {
          "output_type": "stream",
          "name": "stderr",
          "text": [
            "<ipython-input-52-02733430417e>:2: DeprecationWarning: Redis.hmset() is deprecated. Use Redis.hset() instead.\n",
            "  client.hmset(article2,{\n"
          ]
        },
        {
          "output_type": "execute_result",
          "data": {
            "text/plain": [
              "{b'title:': b'new title 2', b'votes:': b'1'}"
            ]
          },
          "metadata": {},
          "execution_count": 52
        }
      ]
    },
    {
      "cell_type": "markdown",
      "source": [
        "LISTS"
      ],
      "metadata": {
        "id": "E_Xf-8QMR1Bo"
      }
    },
    {
      "cell_type": "code",
      "source": [
        "client.lpush(\"nums\", 1)\n",
        "client.lpush(\"nums\", 2)\n",
        "client.lpush(\"nums\", 3)\n",
        "\n",
        "numbers = client.lrange(\"nums\", 0, -1)\n",
        "print(numbers)\n"
      ],
      "metadata": {
        "colab": {
          "base_uri": "https://localhost:8080/"
        },
        "id": "0qA9KZ-5R2iA",
        "outputId": "f52b02e7-ed51-4dbc-e2c5-675396c5d099"
      },
      "execution_count": 108,
      "outputs": [
        {
          "output_type": "stream",
          "name": "stdout",
          "text": [
            "[b'3', b'2', b'1', b'3', b'2', b'1', b'3', b'2', b'1']\n"
          ]
        }
      ]
    },
    {
      "cell_type": "code",
      "source": [
        "num_len=client.llen(\"nums\")\n",
        "print(num_len)"
      ],
      "metadata": {
        "colab": {
          "base_uri": "https://localhost:8080/"
        },
        "id": "aHow4yl3l9Sb",
        "outputId": "f93133f9-d8e5-432e-a229-8340b68acfa8"
      },
      "execution_count": 109,
      "outputs": [
        {
          "output_type": "stream",
          "name": "stdout",
          "text": [
            "9\n"
          ]
        }
      ]
    },
    {
      "cell_type": "code",
      "source": [],
      "metadata": {
        "id": "blBMEuxzmJts"
      },
      "execution_count": null,
      "outputs": []
    }
  ]
}